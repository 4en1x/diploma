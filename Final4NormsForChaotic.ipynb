{
  "nbformat": 4,
  "nbformat_minor": 0,
  "metadata": {
    "colab": {
      "name": "Final4NormsForChaotic.ipynb",
      "version": "0.3.2",
      "provenance": [],
      "include_colab_link": true
    },
    "kernelspec": {
      "name": "python3",
      "display_name": "Python 3"
    },
    "accelerator": "GPU"
  },
  "cells": [
    {
      "cell_type": "markdown",
      "metadata": {
        "id": "view-in-github",
        "colab_type": "text"
      },
      "source": [
        "<a href=\"https://colab.research.google.com/github/4en1x/diploma/blob/master/Final4NormsForChaotic.ipynb\" target=\"_parent\"><img src=\"https://colab.research.google.com/assets/colab-badge.svg\" alt=\"Open In Colab\"/></a>"
      ]
    },
    {
      "metadata": {
        "id": "BTBsHRbhu9sP",
        "colab_type": "code",
        "colab": {
          "base_uri": "https://localhost:8080/",
          "height": 170
        },
        "outputId": "52f39d69-f2c1-4619-fec0-f6cde35e0f18"
      },
      "cell_type": "code",
      "source": [
        "!pip install git+git://github.com/andreinechaev/nvcc4jupyter.git\n",
        "%load_ext nvcc_plugin\n",
        "!cd /usr/src\n",
        "!ln -sfn linux-headers-2.6.35-28-generic linux"
      ],
      "execution_count": 1,
      "outputs": [
        {
          "output_type": "stream",
          "text": [
            "Collecting git+git://github.com/andreinechaev/nvcc4jupyter.git\n",
            "  Cloning git://github.com/andreinechaev/nvcc4jupyter.git to /tmp/pip-req-build-b5w4p2gb\n",
            "Requirement already satisfied (use --upgrade to upgrade): NVCCPlugin==0.0.2 from git+git://github.com/andreinechaev/nvcc4jupyter.git in /usr/local/lib/python3.6/dist-packages\n",
            "Building wheels for collected packages: NVCCPlugin\n",
            "  Building wheel for NVCCPlugin (setup.py) ... \u001b[?25ldone\n",
            "\u001b[?25h  Stored in directory: /tmp/pip-ephem-wheel-cache-d4jl7hcg/wheels/10/c2/05/ca241da37bff77d60d31a9174f988109c61ba989e4d4650516\n",
            "Successfully built NVCCPlugin\n",
            "directory /content/src already exists\n",
            "Out bin /content/result.out\n"
          ],
          "name": "stdout"
        }
      ]
    },
    {
      "metadata": {
        "id": "Mvp2Q4IYvhil",
        "colab_type": "code",
        "colab": {
          "base_uri": "https://localhost:8080/",
          "height": 54
        },
        "outputId": "082e3ed3-f3a5-4e7d-cf2b-cd731b44e2b8"
      },
      "cell_type": "code",
      "source": [
        "%%cu\n",
        "#include <cuda_runtime.h>\n",
        "#include \"device_launch_parameters.h\"\n",
        "#include <stdlib.h>\n",
        "#include <stdio.h>\n",
        "#include <float.h>\n",
        "#include \"linux/kernel.h\"\n",
        "#include <iostream>\n",
        "#include <ctime>\n",
        "#include <iomanip>\n",
        "#include <fstream>\n",
        "#include <math.h>\n",
        "#include <cmath>\n",
        "\n",
        "using namespace std;\n",
        "\n",
        "#define ITERATIONS 1000000\n",
        "#define N 1024\n",
        "\n",
        "#define e 2.7182818\n",
        "\n",
        "#define blockZSize 1\n",
        "\n",
        "#define blockXSize 64\n",
        "#define blockYSize 64\n",
        "\n",
        "#define tileXSize 16\n",
        "#define tileYSize 16\n",
        "\n",
        "#define extN (N + 2)\n",
        "#define Dx 1\n",
        "#define h ((float) Dx / (N + 1))\n",
        "#define h2 powf(h, 2.0)\n",
        "\n",
        "__device__\n",
        "float f(int i, int j) {\n",
        "\treturn 2 * powf(e, i * h + j * h);\n",
        "}\n",
        "\n",
        "float u_t(float x) {\n",
        "\treturn powf(e, x);\n",
        "}\n",
        "\n",
        "float u_l(float x) {\n",
        "\treturn powf(e, x);\n",
        "}\n",
        "\n",
        "float u_r(float x) {\n",
        "\treturn powf(e, x + 1);\n",
        "}\n",
        "\n",
        "float u_d(float x) {\n",
        "\treturn powf(e, x + 1);\n",
        "}\n",
        "\n",
        "\n",
        "__device__\n",
        "void tile(float* matrix, int iGl, int jGl, bool isBlack) {\n",
        "\tint iBegin = iGl * blockXSize + threadIdx.x * tileXSize + 1;\n",
        "\tint jBegin = jGl * blockYSize + threadIdx.y * tileYSize + 1;\n",
        "\n",
        "  int N1 = tileXSize + blockZSize * 2;\n",
        "  int N2 = tileYSize + blockZSize * 2;\n",
        "  \n",
        "\tfloat helper[18 * 18];\n",
        "\n",
        "  for(int i = 0; i < N1; i++) {\n",
        "\t\tfor(int j = 0; j < N2; j++) {\n",
        "      int dAI = iBegin - blockZSize + i;\n",
        "      int dAJ = jBegin - blockZSize + j;\n",
        "      if(dAI < 0 || dAI >= extN || dAJ < 0 || dAJ >= extN) {\n",
        "          helper[i * N1 + j] = FLT_MAX;\n",
        "      }\n",
        "      else {\n",
        "          helper[i * N1 + j] = matrix[extN * dAI + dAJ];\n",
        "      }\n",
        "\t\t}\n",
        "\t}\n",
        "  \n",
        "  int iSplit = iBegin - blockZSize;\n",
        "  int jSplit = jBegin - blockZSize;\n",
        "    \n",
        "  for(int k = 1; k < blockZSize; k++) {\n",
        "\t\tfor (int i = k; i < N1 - k; i++) {\n",
        "\t\t  for (int j = k; j < N2 - k; j += 1) {\n",
        "        int b = N1 * i + j;\n",
        "        if(helper[b + N1] != FLT_MAX && helper[b - N1] != FLT_MAX && helper[b + 1] != FLT_MAX && helper[b - 1] != FLT_MAX) {\n",
        "            helper[b] = 0.25 * (\n",
        "                helper[b + N1]\n",
        "              + helper[b - N1]\n",
        "              + helper[b + 1]\n",
        "              + helper[b - 1] \n",
        "              - h2 * f(iSplit + i, jSplit + j)\n",
        "            );\n",
        "        }\n",
        "\t\t  }\n",
        "\t  }\n",
        "\t}\n",
        "\n",
        "  //printf(\"iGl : %d, %d, %d, %d, %d, %d, %d \\n\", iGl, jGl, threadIdx.x, threadIdx.y, isBlack, iBegin, jBegin);\n",
        "    \n",
        "  for (int i = iBegin; i < iBegin + tileXSize; i++) {\n",
        "\t\tfor (int j = jBegin; j < jBegin + tileYSize; j += 1) {\n",
        "      int helperIndex = N1 * (i - iBegin + blockZSize) + j - jBegin + blockZSize;\n",
        "\t\t\tmatrix[extN * i + j] = 0.25 * (\n",
        "          helper[helperIndex + N1]\n",
        "        + helper[helperIndex - N1]\n",
        "        + helper[helperIndex + 1]\n",
        "\t\t\t\t+ helper[helperIndex - 1] \n",
        "        - h2 * f(i - blockZSize + 1, j - blockZSize + 1)\n",
        "      );\n",
        "      helper[helperIndex] =\tmatrix[extN * i + j];\n",
        "\t\t}\n",
        "\t}\n",
        "    \n",
        "}\n",
        "\n",
        "__global__\n",
        "void calculateBlack(float* matrix) {\n",
        "\ttile(matrix, blockIdx.x, blockIdx.y, true);\n",
        "}\n",
        "\n",
        "__global__\n",
        "void calculateRed(float* matrix) {\n",
        "\ttile(matrix, blockIdx.x, blockIdx.y, false);\n",
        "}\n",
        "\n",
        "float func(int i, int j) {\n",
        "\treturn powf(e, i * h + j * h);\n",
        "}\n",
        "\n",
        "float* createMatrix(int row, int col) {\n",
        "\tfloat* matrix = new float[row * col];\n",
        "\n",
        "\tfor(int i = 0; i < row; i++) {\n",
        "\t\tfor(int j = 0; j < col; j++) {\n",
        "\t\t\tmatrix[i * row + j] = 0;\n",
        "\t\t}\n",
        "\t}\n",
        "\n",
        "  for(int i = 0; i < row; i++) {\n",
        "      matrix[0 * row + i] = u_t((i) * h);\n",
        "      matrix[(row - 1) * row + i] = u_d((i) * h);\n",
        "  }\n",
        "\n",
        "  for(int j = 0; j < col; j++) {\n",
        "      matrix[j * col + 0] = u_l((j) * h);\n",
        "      matrix[j * col + row - 1] = u_r((j) * h);\n",
        "\t}\n",
        "    \n",
        "\treturn matrix;\n",
        "}\n",
        "\n",
        "float calculateDifference(float* matrix1) {\n",
        "\tfloat tolerance = 0.0f;\n",
        "\n",
        "  for (int i = 1; i < extN - 1; i++) {\n",
        "\t\tfor (int j = 1; j < extN - 1; j++) {\n",
        "      float fCurrent = func(i, j);\n",
        "      tolerance += (matrix1[i * extN + j] - fCurrent) * (matrix1[i * extN + j] - fCurrent);\n",
        "\t\t}\n",
        "\t}\n",
        "\n",
        "\treturn tolerance;\n",
        "}\n",
        "\n",
        "int main() {\n",
        "    ofstream myfile;\n",
        "  myfile.open(\"diff_4.txt\");\n",
        "\tfloat* matrixHost = createMatrix(extN, extN);\n",
        "\tfloat* matrixDevice;\n",
        "\n",
        "\tint matrixSize = sizeof(float) * extN * extN;\n",
        "\n",
        "\tcudaMalloc((void**)&matrixDevice, matrixSize);\n",
        "\tcudaMemcpy(matrixDevice, matrixHost, matrixSize, cudaMemcpyHostToDevice);\n",
        "\n",
        "\tlong startTime = clock();\n",
        "\tdim3 blocks(N / blockXSize, N / blockYSize);\n",
        "\tdim3 threads(blockXSize / tileXSize, blockYSize / tileYSize);\n",
        "\n",
        "\tfor (size_t i = 0; i < ITERATIONS; i++) {\n",
        "\t\tcalculateBlack <<< blocks, threads >>>(matrixDevice);\n",
        "\t\tcudaDeviceSynchronize();\n",
        "\t\tcudaPeekAtLastError();\n",
        "\n",
        "    if(i%1000 == 0) {\n",
        "        cudaMemcpy(matrixHost, matrixDevice, matrixSize, cudaMemcpyDeviceToHost);\n",
        "        float diff = calculateDifference(matrixHost);\n",
        "        cout << \" Difference: \" << diff << \"iter: \" << i;\n",
        "        myfile << diff << \" \";\n",
        "    }  \n",
        "\t}\n",
        "\n",
        "\tstd::cout << \"Calculation take time: \" << clock() - startTime << std::endl;\n",
        "  cout << \" Difference: \" << calculateDifference(matrixHost);\n",
        "\tcudaError_t cudaResult = cudaMemcpy(matrixHost, matrixDevice, matrixSize, cudaMemcpyDeviceToHost);\n",
        "\n",
        "\tif (cudaResult != cudaSuccess) {\n",
        "\t\tstd::cout << \"Cuda error: \" << cudaResult << std::endl;\n",
        "\t}\n",
        "\n",
        "    myfile.close();\n",
        "\treturn 0;\n",
        "}"
      ],
      "execution_count": 6,
      "outputs": [
        {
          "output_type": "execute_result",
          "data": {
            "text/plain": [
              "' Difference: 1.06622e+07iter: 0 Difference: 8.96337e+06iter: 1000 Difference: 8.30467e+06iter: 2000 Difference: 7.82563e+06iter: 3000 Difference: 7.43867e+06iter: 4000 Difference: 7.11008e+06iter: 5000 Difference: 6.82309e+06iter: 6000 Difference: 6.56668e+06iter: 7000 Difference: 6.33482e+06iter: 8000 Difference: 6.12249e+06iter: 9000 Difference: 5.92668e+06iter: 10000 Difference: 5.74467e+06iter: 11000 Difference: 5.57475e+06iter: 12000 Difference: 5.41506e+06iter: 13000 Difference: 5.26484e+06iter: 14000 Difference: 5.12241e+06iter: 15000 Difference: 4.98747e+06iter: 16000 Difference: 4.85912e+06iter: 17000 Difference: 4.73671e+06iter: 18000 Difference: 4.61978e+06iter: 19000 Difference: 4.5078e+06iter: 20000 Difference: 4.4004e+06iter: 21000 Difference: 4.29734e+06iter: 22000 Difference: 4.19828e+06iter: 23000 Difference: 4.1036e+06iter: 24000 Difference: 4.01142e+06iter: 25000 Difference: 3.92242e+06iter: 26000 Difference: 3.83646e+06iter: 27000 Difference: 3.75333e+06iter: 28000 Difference: 3.6729e+06iter: 29000 Difference: 3.59484e+06iter: 30000 Difference: 3.51921e+06iter: 31000 Difference: 3.44579e+06iter: 32000 Difference: 3.37443e+06iter: 33000 Difference: 3.30515e+06iter: 34000 Difference: 3.23778e+06iter: 35000 Difference: 3.17225e+06iter: 36000 Difference: 3.10851e+06iter: 37000 Difference: 3.04638e+06iter: 38000 Difference: 2.98587e+06iter: 39000 Difference: 2.92687e+06iter: 40000 Difference: 2.86937e+06iter: 41000 Difference: 2.81322e+06iter: 42000 Difference: 2.75851e+06iter: 43000 Difference: 2.70509e+06iter: 44000 Difference: 2.65289e+06iter: 45000 Difference: 2.60187e+06iter: 46000 Difference: 2.5521e+06iter: 47000 Difference: 2.50345e+06iter: 48000 Difference: 2.45591e+06iter: 49000 Difference: 2.40937e+06iter: 50000 Difference: 2.36388e+06iter: 51000 Difference: 2.31938e+06iter: 52000 Difference: 2.27581e+06iter: 53000 Difference: 2.23323e+06iter: 54000 Difference: 2.19152e+06iter: 55000 Difference: 2.15072e+06iter: 56000 Difference: 2.11085e+06iter: 57000 Difference: 2.07234e+06iter: 58000 Difference: 2.03399e+06iter: 59000 Difference: 1.99647e+06iter: 60000 Difference: 1.95969e+06iter: 61000 Difference: 1.92365e+06iter: 62000 Difference: 1.8883e+06iter: 63000 Difference: 1.85365e+06iter: 64000 Difference: 1.81971e+06iter: 65000 Difference: 1.78647e+06iter: 66000 Difference: 1.75384e+06iter: 67000 Difference: 1.72187e+06iter: 68000 Difference: 1.69055e+06iter: 69000 Difference: 1.6598e+06iter: 70000 Difference: 1.62966e+06iter: 71000 Difference: 1.60013e+06iter: 72000 Difference: 1.5711e+06iter: 73000 Difference: 1.54268e+06iter: 74000 Difference: 1.5148e+06iter: 75000 Difference: 1.48743e+06iter: 76000 Difference: 1.4606e+06iter: 77000 Difference: 1.43425e+06iter: 78000 Difference: 1.40844e+06iter: 79000 Difference: 1.38306e+06iter: 80000 Difference: 1.35821e+06iter: 81000 Difference: 1.33381e+06iter: 82000 Difference: 1.30985e+06iter: 83000 Difference: 1.28636e+06iter: 84000 Difference: 1.2633e+06iter: 85000 Difference: 1.24065e+06iter: 86000 Difference: 1.21842e+06iter: 87000 Difference: 1.19666e+06iter: 88000 Difference: 1.17528e+06iter: 89000 Difference: 1.15426e+06iter: 90000 Difference: 1.13364e+06iter: 91000 Difference: 1.11339e+06iter: 92000 Difference: 1.09353e+06iter: 93000 Difference: 1.07406e+06iter: 94000 Difference: 1.05501e+06iter: 95000 Difference: 1.03655e+06iter: 96000 Difference: 1.0181e+06iter: 97000 Difference: 999974iter: 98000 Difference: 982175iter: 99000 Difference: 964708iter: 100000 Difference: 947560iter: 101000 Difference: 930713iter: 102000 Difference: 914179iter: 103000 Difference: 897941iter: 104000 Difference: 881997iter: 105000 Difference: 866339iter: 106000 Difference: 850973iter: 107000 Difference: 835890iter: 108000 Difference: 821063iter: 109000 Difference: 806496iter: 110000 Difference: 792221iter: 111000 Difference: 778184iter: 112000 Difference: 764390iter: 113000 Difference: 750866iter: 114000 Difference: 737568iter: 115000 Difference: 724507iter: 116000 Difference: 711698iter: 117000 Difference: 699112iter: 118000 Difference: 686744iter: 119000 Difference: 674602iter: 120000 Difference: 662663iter: 121000 Difference: 650971iter: 122000 Difference: 639467iter: 123000 Difference: 628168iter: 124000 Difference: 617074iter: 125000 Difference: 606181iter: 126000 Difference: 595478iter: 127000 Difference: 584977iter: 128000 Difference: 574652iter: 129000 Difference: 564511iter: 130000 Difference: 554548iter: 131000 Difference: 544785iter: 132000 Difference: 535208iter: 133000 Difference: 525822iter: 134000 Difference: 516709iter: 135000 Difference: 507598iter: 136000 Difference: 498660iter: 137000 Difference: 489875iter: 138000 Difference: 481251iter: 139000 Difference: 472775iter: 140000 Difference: 464457iter: 141000 Difference: 456278iter: 142000 Difference: 448239iter: 143000 Difference: 440351iter: 144000 Difference: 432595iter: 145000 Difference: 424983iter: 146000 Difference: 417507iter: 147000 Difference: 410163iter: 148000 Difference: 402942iter: 149000 Difference: 395842iter: 150000 Difference: 388885iter: 151000 Difference: 382047iter: 152000 Difference: 375319iter: 153000 Difference: 368727iter: 154000 Difference: 362237iter: 155000 Difference: 355860iter: 156000 Difference: 349605iter: 157000 Difference: 343459iter: 158000 Difference: 337413iter: 159000 Difference: 331484iter: 160000 Difference: 325652iter: 161000 Difference: 319932iter: 162000 Difference: 314307iter: 163000 Difference: 308780iter: 164000 Difference: 303357iter: 165000 Difference: 298024iter: 166000 Difference: 292783iter: 167000 Difference: 287648iter: 168000 Difference: 282598iter: 169000 Difference: 277632iter: 170000 Difference: 272752iter: 171000 Difference: 267971iter: 172000 Difference: 263284iter: 173000 Difference: 258753iter: 174000 Difference: 254211iter: 175000 Difference: 249748iter: 176000 Difference: 245361iter: 177000 Difference: 241048iter: 178000 Difference: 236817iter: 179000 Difference: 232661iter: 180000 Difference: 228576iter: 181000 Difference: 224563iter: 182000 Difference: 220620iter: 183000 Difference: 216748iter: 184000 Difference: 212945iter: 185000 Difference: 209207iter: 186000 Difference: 205532iter: 187000 Difference: 201926iter: 188000 Difference: 198384iter: 189000 Difference: 194904iter: 190000 Difference: 191481iter: 191000 Difference: 188121iter: 192000 Difference: 184821iter: 193000 Difference: 181578iter: 194000 Difference: 178392iter: 195000 Difference: 175259iter: 196000 Difference: 172189iter: 197000 Difference: 169164iter: 198000 Difference: 166201iter: 199000 Difference: 163283iter: 200000 Difference: 160418iter: 201000 Difference: 157607iter: 202000 Difference: 154840iter: 203000 Difference: 152125iter: 204000 Difference: 149460iter: 205000 Difference: 146839iter: 206000 Difference: 144258iter: 207000 Difference: 141731iter: 208000 Difference: 139247iter: 209000 Difference: 136804iter: 210000 Difference: 134405iter: 211000 Difference: 132051iter: 212000 Difference: 129786iter: 213000 Difference: 127510iter: 214000 Difference: 125270iter: 215000 Difference: 123073iter: 216000 Difference: 120913iter: 217000 Difference: 118789iter: 218000 Difference: 116703iter: 219000 Difference: 114655iter: 220000 Difference: 112644iter: 221000 Difference: 110667iter: 222000 Difference: 108723iter: 223000 Difference: 106813iter: 224000 Difference: 104936iter: 225000 Difference: 103094iter: 226000 Difference: 101283iter: 227000 Difference: 99503.5iter: 228000 Difference: 97754.5iter: 229000 Difference: 96041iter: 230000 Difference: 94353.9iter: 231000 Difference: 92694.7iter: 232000 Difference: 91068.8iter: 233000 Difference: 89468.9iter: 234000 Difference: 87897.8iter: 235000 Difference: 86352.7iter: 236000 Difference: 84835.8iter: 237000 Difference: 83345.6iter: 238000 Difference: 81882.7iter: 239000 Difference: 80444.2iter: 240000 Difference: 79032.7iter: 241000 Difference: 77644.9iter: 242000 Difference: 76279.6iter: 243000 Difference: 74941.1iter: 244000 Difference: 73624.2iter: 245000 Difference: 72329.4iter: 246000 Difference: 71058.8iter: 247000 Difference: 69811.7iter: 248000 Difference: 68587.6iter: 249000 Difference: 67383.1iter: 250000 Difference: 66203.6iter: 251000 Difference: 65065.3iter: 252000 Difference: 63922.8iter: 253000 Difference: 62799.9iter: 254000 Difference: 61697iter: 255000 Difference: 60612.4iter: 256000 Difference: 59548iter: 257000 Difference: 58501.3iter: 258000 Difference: 57474.7iter: 259000 Difference: 56464.7iter: 260000 Difference: 55473.1iter: 261000 Difference: 54499.5iter: 262000 Difference: 53542.7iter: 263000 Difference: 52603iter: 264000 Difference: 51680.5iter: 265000 Difference: 50773.3iter: 266000 Difference: 49880.8iter: 267000 Difference: 49005.2iter: 268000 Difference: 48144.9iter: 269000 Difference: 47299.1iter: 270000 Difference: 46468.8iter: 271000 Difference: 45653iter: 272000 Difference: 44850.6iter: 273000 Difference: 44064.5iter: 274000 Difference: 43291.2iter: 275000 Difference: 42532.5iter: 276000 Difference: 41786.2iter: 277000 Difference: 41053.4iter: 278000 Difference: 40333.4iter: 279000 Difference: 39624.9iter: 280000 Difference: 38930iter: 281000 Difference: 38246.2iter: 282000 Difference: 37574.5iter: 283000 Difference: 36915.5iter: 284000 Difference: 36267.4iter: 285000 Difference: 35630.9iter: 286000 Difference: 35006.6iter: 287000 Difference: 34392.5iter: 288000 Difference: 33790.2iter: 289000 Difference: 33199.6iter: 290000 Difference: 32630.7iter: 291000 Difference: 32058.7iter: 292000 Difference: 31497.4iter: 293000 Difference: 30945.5iter: 294000 Difference: 30403.7iter: 295000 Difference: 29871.3iter: 296000 Difference: 29348.5iter: 297000 Difference: 28834.4iter: 298000 Difference: 28329.3iter: 299000 Difference: 27833.1iter: 300000 Difference: 27345.4iter: 301000 Difference: 26866.3iter: 302000 Difference: 26396.3iter: 303000 Difference: 25934.3iter: 304000 Difference: 25480.3iter: 305000 Difference: 25035.5iter: 306000 Difference: 24597.7iter: 307000 Difference: 24167.5iter: 308000 Difference: 23745.3iter: 309000 Difference: 23330.5iter: 310000 Difference: 22921.7iter: 311000 Difference: 22521.5iter: 312000 Difference: 22127iter: 313000 Difference: 21740iter: 314000 Difference: 21358.8iter: 315000 Difference: 20985.4iter: 316000 Difference: 20616.9iter: 317000 Difference: 20255.9iter: 318000 Difference: 19900.6iter: 319000 Difference: 19551.3iter: 320000 Difference: 19208.9iter: 321000 Difference: 18872.2iter: 322000 Difference: 18541.6iter: 323000 Difference: 18217.2iter: 324000 Difference: 17898.5iter: 325000 Difference: 17584.4iter: 326000 Difference: 17276.1iter: 327000 Difference: 16974.1iter: 328000 Difference: 16677.1iter: 329000 Difference: 16387.1iter: 330000 Difference: 16104.5iter: 331000 Difference: 15822.3iter: 332000 Difference: 15544.5iter: 333000 Difference: 15272.1iter: 334000 Difference: 15004.3iter: 335000 Difference: 14741.4iter: 336000 Difference: 14482.6iter: 337000 Difference: 14228.9iter: 338000 Difference: 13979.4iter: 339000 Difference: 13734.5iter: 340000 Difference: 13493.9iter: 341000 Difference: 13257.2iter: 342000 Difference: 13024.3iter: 343000 Difference: 12795.4iter: 344000 Difference: 12570.7iter: 345000 Difference: 12350iter: 346000 Difference: 12133.1iter: 347000 Difference: 11920.8iter: 348000 Difference: 11712.4iter: 349000 Difference: 11507.3iter: 350000 Difference: 11306.2iter: 351000 Difference: 11108.7iter: 352000 Difference: 10914.2iter: 353000 Difference: 10723.5iter: 354000 Difference: 10535.7iter: 355000 Difference: 10351.5iter: 356000 Difference: 10170.1iter: 357000 Difference: 9992.39iter: 358000 Difference: 9817.41iter: 359000 Difference: 9645.37iter: 360000 Difference: 9476.65iter: 361000 Difference: 9310.55iter: 362000 Difference: 9147.2iter: 363000 Difference: 8986.96iter: 364000 Difference: 8829.28iter: 365000 Difference: 8674.28iter: 366000 Difference: 8522.03iter: 367000 Difference: 8372.1iter: 368000 Difference: 8225.55iter: 369000 Difference: 8083.59iter: 370000 Difference: 7941.23iter: 371000 Difference: 7801.27iter: 372000 Difference: 7663.6iter: 373000 Difference: 7528.17iter: 374000 Difference: 7395.11iter: 375000 Difference: 7264.33iter: 376000 Difference: 7135.74iter: 377000 Difference: 7009.55iter: 378000 Difference: 6885.6iter: 379000 Difference: 6764.1iter: 380000 Difference: 6644.84iter: 381000 Difference: 6527.67iter: 382000 Difference: 6412.55iter: 383000 Difference: 6299.5iter: 384000 Difference: 6188.51iter: 385000 Difference: 6079.33iter: 386000 Difference: 5972.1iter: 387000 Difference: 5866.88iter: 388000 Difference: 5763.48iter: 389000 Difference: 5661.85iter: 390000 Difference: 5562.31iter: 391000 Difference: 5464.3iter: 392000 Difference: 5368.29iter: 393000 Difference: 5273.83iter: 394000 Difference: 5181.04iter: 395000 Difference: 5089.88iter: 396000 Difference: 5000.37iter: 397000 Difference: 4912.46iter: 398000 Difference: 4826.11iter: 399000 Difference: 4741.42iter: 400000 Difference: 4658.14iter: 401000 Difference: 4576.28iter: 402000 Difference: 4496.11iter: 403000 Difference: 4417.28iter: 404000 Difference: 4339.79iter: 405000 Difference: 4263.73iter: 406000 Difference: 4188.85iter: 407000 Difference: 4115.63iter: 408000 Difference: 4045.07iter: 409000 Difference: 3974.2iter: 410000 Difference: 3904.54iter: 411000 Difference: 3836.1iter: 412000 Difference: 3768.91iter: 413000 Difference: 3702.86iter: 414000 Difference: 3638.06iter: 415000 Difference: 3574.47iter: 416000 Difference: 3511.95iter: 417000 Difference: 3450.48iter: 418000 Difference: 3390.08iter: 419000 Difference: 3330.68iter: 420000 Difference: 3272.27iter: 421000 Difference: 3214.93iter: 422000 Difference: 3158.71iter: 423000 Difference: 3103.49iter: 424000 Difference: 3049.17iter: 425000 Difference: 2995.97iter: 426000 Difference: 2943.73iter: 427000 Difference: 2892.46iter: 428000 Difference: 2842.15iter: 429000 Difference: 2792.83iter: 430000 Difference: 2744.22iter: 431000 Difference: 2696.51iter: 432000 Difference: 2649.66iter: 433000 Difference: 2603.59iter: 434000 Difference: 2558.25iter: 435000 Difference: 2513.68iter: 436000 Difference: 2469.87iter: 437000 Difference: 2426.88iter: 438000 Difference: 2384.62iter: 439000 Difference: 2343.23iter: 440000 Difference: 2302.58iter: 441000 Difference: 2262.64iter: 442000 Difference: 2223.37iter: 443000 Difference: 2184.89iter: 444000 Difference: 2147.08iter: 445000 Difference: 2109.96iter: 446000 Difference: 2073.44iter: 447000 Difference: 2038.42iter: 448000 Difference: 2003.19iter: 449000 Difference: 1968.57iter: 450000 Difference: 1934.58iter: 451000 Difference: 1901.17iter: 452000 Difference: 1868.36iter: 453000 Difference: 1836.14iter: 454000 Difference: 1804.48iter: 455000 Difference: 1773.41iter: 456000 Difference: 1742.83iter: 457000 Difference: 1712.86iter: 458000 Difference: 1683.37iter: 459000 Difference: 1654.42iter: 460000 Difference: 1625.93iter: 461000 Difference: 1597.92iter: 462000 Difference: 1570.42iter: 463000 Difference: 1543.34iter: 464000 Difference: 1516.72iter: 465000 Difference: 1490.57iter: 466000 Difference: 1464.8iter: 467000 Difference: 1439.49iter: 468000 Difference: 1414.54iter: 469000 Difference: 1390.08iter: 470000 Difference: 1365.96iter: 471000 Difference: 1342.3iter: 472000 Difference: 1319.02iter: 473000 Difference: 1296.16iter: 474000 Difference: 1273.66iter: 475000 Difference: 1251.58iter: 476000 Difference: 1229.86iter: 477000 Difference: 1208.49iter: 478000 Difference: 1187.54iter: 479000 Difference: 1166.92iter: 480000 Difference: 1146.67iter: 481000 Difference: 1126.81iter: 482000 Difference: 1107.25iter: 483000 Difference: 1087.99iter: 484000 Difference: 1069.08iter: 485000 Difference: 1050.54iter: 486000 Difference: 1032.3iter: 487000 Difference: 1014.72iter: 488000 Difference: 997.03iter: 489000 Difference: 979.638iter: 490000 Difference: 962.532iter: 491000 Difference: 945.714iter: 492000 Difference: 929.232iter: 493000 Difference: 913.013iter: 494000 Difference: 897.09iter: 495000 Difference: 881.451iter: 496000 Difference: 866.109iter: 497000 Difference: 851.036iter: 498000 Difference: 836.259iter: 499000 Difference: 821.838iter: 500000 Difference: 807.792iter: 501000 Difference: 794.121iter: 502000 Difference: 780.713iter: 503000 Difference: 767.553iter: 504000 Difference: 754.646iter: 505000 Difference: 741.94iter: 506000 Difference: 729.485iter: 507000 Difference: 717.227iter: 508000 Difference: 705.184iter: 509000 Difference: 693.343iter: 510000 Difference: 681.683iter: 511000 Difference: 670.226iter: 512000 Difference: 658.944iter: 513000 Difference: 647.878iter: 514000 Difference: 636.953iter: 515000 Difference: 626.245iter: 516000 Difference: 615.713iter: 517000 Difference: 605.354iter: 518000 Difference: 595.169iter: 519000 Difference: 585.164iter: 520000 Difference: 575.336iter: 521000 Difference: 565.661iter: 522000 Difference: 556.157iter: 523000 Difference: 546.812iter: 524000 Difference: 537.642iter: 525000 Difference: 528.639iter: 526000 Difference: 519.791iter: 527000 Difference: 511.274iter: 528000 Difference: 502.718iter: 529000 Difference: 494.322iter: 530000 Difference: 486.074iter: 531000 Difference: 477.986iter: 532000 Difference: 470.059iter: 533000 Difference: 462.257iter: 534000 Difference: 454.61iter: 535000 Difference: 447.104iter: 536000 Difference: 439.743iter: 537000 Difference: 432.523iter: 538000 Difference: 425.436iter: 539000 Difference: 418.496iter: 540000 Difference: 411.695iter: 541000 Difference: 404.992iter: 542000 Difference: 398.42iter: 543000 Difference: 391.947iter: 544000 Difference: 385.617iter: 545000 Difference: 379.386iter: 546000 Difference: 373.275iter: 547000 Difference: 367.258iter: 548000 Difference: 361.34iter: 549000 Difference: 355.567iter: 550000 Difference: 349.888iter: 551000 Difference: 344.311iter: 552000 Difference: 338.835iter: 553000 Difference: 333.468iter: 554000 Difference: 328.178iter: 555000 Difference: 322.992iter: 556000 Difference: 317.899iter: 557000 Difference: 312.905iter: 558000 Difference: 308.006iter: 559000 Difference: 303.214iter: 560000 Difference: 298.498iter: 561000 Difference: 293.872iter: 562000 Difference: 289.33iter: 563000 Difference: 284.892iter: 564000 Difference: 280.533iter: 565000 Difference: 276.25iter: 566000 Difference: 272.03iter: 567000 Difference: 267.892iter: 568000 Difference: 263.855iter: 569000 Difference: 259.883iter: 570000 Difference: 256.011iter: 571000 Difference: 252.253iter: 572000 Difference: 248.481iter: 573000 Difference: 244.813iter: 574000 Difference: 241.203iter: 575000 Difference: 237.647iter: 576000 Difference: 234.171iter: 577000 Difference: 230.754iter: 578000 Difference: 227.411iter: 579000 Difference: 224.148iter: 580000 Difference: 220.928iter: 581000 Difference: 217.777iter: 582000 Difference: 214.682iter: 583000 Difference: 211.643iter: 584000 Difference: 208.671iter: 585000 Difference: 205.78iter: 586000 Difference: 202.923iter: 587000 Difference: 200.122iter: 588000 Difference: 197.391iter: 589000 Difference: 194.702iter: 590000 Difference: 192.059iter: 591000 Difference: 189.483iter: 592000 Difference: 186.956iter: 593000 Difference: 184.451iter: 594000 Difference: 181.993iter: 595000 Difference: 179.604iter: 596000 Difference: 177.259iter: 597000 Difference: 174.935iter: 598000 Difference: 172.677iter: 599000 Difference: 170.47iter: 600000 Difference: 168.293iter: 601000 Difference: 166.154iter: 602000 Difference: 164.058iter: 603000 Difference: 162.018iter: 604000 Difference: 160.012iter: 605000 Difference: 158.042iter: 606000 Difference: 156.109iter: 607000 Difference: 154.229iter: 608000 Difference: 152.393iter: 609000 Difference: 150.581iter: 610000 Difference: 148.805iter: 611000 Difference: 147.064iter: 612000 Difference: 145.376iter: 613000 Difference: 143.728iter: 614000 Difference: 142.089iter: 615000 Difference: 140.486iter: 616000 Difference: 138.931iter: 617000 Difference: 137.421iter: 618000 Difference: 135.964iter: 619000 Difference: 134.528iter: 620000 Difference: 133.125iter: 621000 Difference: 131.741iter: 622000 Difference: 130.409iter: 623000 Difference: 129.11iter: 624000 Difference: 127.885iter: 625000 Difference: 126.649iter: 626000 Difference: 125.442iter: 627000 Difference: 124.252iter: 628000 Difference: 123.104iter: 629000 Difference: 121.996iter: 630000 Difference: 120.931iter: 631000 Difference: 119.88iter: 632000 Difference: 118.852iter: 633000 Difference: 117.847iter: 634000 Difference: 116.866iter: 635000 Difference: 115.92iter: 636000 Difference: 114.998iter: 637000 Difference: 114.092iter: 638000 Difference: 113.21iter: 639000 Difference: 112.359iter: 640000 Difference: 111.531iter: 641000 Difference: 110.735iter: 642000 Difference: 109.96iter: 643000 Difference: 109.213iter: 644000 Difference: 108.491iter: 645000 Difference: 107.782iter: 646000 Difference: 107.108iter: 647000 Difference: 106.435iter: 648000 Difference: 105.799iter: 649000 Difference: 105.204iter: 650000 Difference: 104.621iter: 651000 Difference: 104.033iter: 652000 Difference: 103.479iter: 653000 Difference: 102.957iter: 654000 Difference: 102.457iter: 655000 Difference: 101.983iter: 656000 Difference: 101.527iter: 657000 Difference: 101.085iter: 658000 Difference: 100.662iter: 659000 Difference: 100.255iter: 660000 Difference: 99.8724iter: 661000 Difference: 99.501iter: 662000 Difference: 99.1564iter: 663000 Difference: 98.8411iter: 664000 Difference: 98.5366iter: 665000 Difference: 98.2476iter: 666000 Difference: 97.9751iter: 667000 Difference: 97.7151iter: 668000 Difference: 97.4668iter: 669000 Difference: 97.2391iter: 670000 Difference: 97.0227iter: 671000 Difference: 96.8185iter: 672000 Difference: 96.6227iter: 673000 Difference: 96.43iter: 674000 Difference: 96.2438iter: 675000 Difference: 96.0715iter: 676000 Difference: 95.9146iter: 677000 Difference: 95.7818iter: 678000 Difference: 95.6653iter: 679000 Difference: 95.5535iter: 680000 Difference: 95.4555iter: 681000 Difference: 95.3784iter: 682000 Difference: 95.3186iter: 683000 Difference: 95.2646iter: 684000 Difference: 95.2146iter: 685000 Difference: 95.1639iter: 686000 Difference: 95.1282iter: 687000 Difference: 95.0938iter: 688000 Difference: 95.0612iter: 689000 Difference: 95.029iter: 690000 Difference: 95.004iter: 691000 Difference: 94.9884iter: 692000 Difference: 94.9739iter: 693000 Difference: 94.9673iter: 694000 Difference: 94.9627iter: 695000 Difference: 94.9555iter: 696000 Difference: 94.9491iter: 697000 Difference: 94.9411iter: 698000 Difference: 94.9341iter: 699000 Difference: 94.9266iter: 700000 Difference: 94.9264iter: 701000 Difference: 94.9264iter: 702000 Difference: 94.9264iter: 703000 Difference: 94.9264iter: 704000 Difference: 94.9264iter: 705000 Difference: 94.9264iter: 706000 Difference: 94.9264iter: 707000 Difference: 94.9264iter: 708000 Difference: 94.9264iter: 709000 Difference: 94.9264iter: 710000 Difference: 94.9264iter: 711000 Difference: 94.9264iter: 712000 Difference: 94.9264iter: 713000 Difference: 94.9264iter: 714000 Difference: 94.9264iter: 715000 Difference: 94.9264iter: 716000 Difference: 94.9264iter: 717000 Difference: 94.9264iter: 718000 Difference: 94.9264iter: 719000 Difference: 94.9264iter: 720000 Difference: 94.9264iter: 721000 Difference: 94.9264iter: 722000 Difference: 94.9264iter: 723000 Difference: 94.9264iter: 724000 Difference: 94.9264iter: 725000 Difference: 94.9264iter: 726000 Difference: 94.9264iter: 727000 Difference: 94.9264iter: 728000 Difference: 94.9264iter: 729000 Difference: 94.9264iter: 730000 Difference: 94.9264iter: 731000 Difference: 94.9264iter: 732000 Difference: 94.9264iter: 733000 Difference: 94.9264iter: 734000 Difference: 94.9264iter: 735000 Difference: 94.9264iter: 736000 Difference: 94.9264iter: 737000 Difference: 94.9264iter: 738000 Difference: 94.9264iter: 739000 Difference: 94.9264iter: 740000 Difference: 94.9264iter: 741000 Difference: 94.9264iter: 742000 Difference: 94.9264iter: 743000 Difference: 94.9264iter: 744000 Difference: 94.9264iter: 745000 Difference: 94.9264iter: 746000 Difference: 94.9264iter: 747000 Difference: 94.9264iter: 748000 Difference: 94.9264iter: 749000 Difference: 94.9264iter: 750000 Difference: 94.9264iter: 751000 Difference: 94.9264iter: 752000 Difference: 94.9264iter: 753000 Difference: 94.9264iter: 754000 Difference: 94.9264iter: 755000 Difference: 94.9264iter: 756000 Difference: 94.9264iter: 757000 Difference: 94.9264iter: 758000 Difference: 94.9264iter: 759000 Difference: 94.9264iter: 760000 Difference: 94.9264iter: 761000 Difference: 94.9264iter: 762000 Difference: 94.9264iter: 763000 Difference: 94.9264iter: 764000 Difference: 94.9264iter: 765000 Difference: 94.9264iter: 766000 Difference: 94.9264iter: 767000 Difference: 94.9264iter: 768000 Difference: 94.9264iter: 769000 Difference: 94.9264iter: 770000 Difference: 94.9264iter: 771000 Difference: 94.9264iter: 772000 Difference: 94.9264iter: 773000 Difference: 94.9264iter: 774000 Difference: 94.9264iter: 775000 Difference: 94.9264iter: 776000 Difference: 94.9264iter: 777000 Difference: 94.9264iter: 778000 Difference: 94.9264iter: 779000 Difference: 94.9264iter: 780000 Difference: 94.9264iter: 781000 Difference: 94.9264iter: 782000 Difference: 94.9264iter: 783000 Difference: 94.9264iter: 784000 Difference: 94.9264iter: 785000 Difference: 94.9264iter: 786000 Difference: 94.9264iter: 787000 Difference: 94.9264iter: 788000 Difference: 94.9264iter: 789000 Difference: 94.9264iter: 790000 Difference: 94.9264iter: 791000 Difference: 94.9264iter: 792000 Difference: 94.9264iter: 793000 Difference: 94.9264iter: 794000 Difference: 94.9264iter: 795000 Difference: 94.9264iter: 796000 Difference: 94.9264iter: 797000 Difference: 94.9264iter: 798000 Difference: 94.9264iter: 799000 Difference: 94.9264iter: 800000 Difference: 94.9264iter: 801000 Difference: 94.9264iter: 802000 Difference: 94.9264iter: 803000 Difference: 94.9264iter: 804000 Difference: 94.9264iter: 805000 Difference: 94.9264iter: 806000 Difference: 94.9264iter: 807000 Difference: 94.9264iter: 808000 Difference: 94.9264iter: 809000 Difference: 94.9264iter: 810000 Difference: 94.9264iter: 811000 Difference: 94.9264iter: 812000 Difference: 94.9264iter: 813000 Difference: 94.9264iter: 814000 Difference: 94.9264iter: 815000 Difference: 94.9264iter: 816000 Difference: 94.9264iter: 817000 Difference: 94.9264iter: 818000 Difference: 94.9264iter: 819000 Difference: 94.9264iter: 820000 Difference: 94.9264iter: 821000 Difference: 94.9264iter: 822000 Difference: 94.9264iter: 823000 Difference: 94.9264iter: 824000 Difference: 94.9264iter: 825000 Difference: 94.9264iter: 826000 Difference: 94.9264iter: 827000 Difference: 94.9264iter: 828000 Difference: 94.9264iter: 829000 Difference: 94.9264iter: 830000 Difference: 94.9264iter: 831000 Difference: 94.9264iter: 832000 Difference: 94.9264iter: 833000 Difference: 94.9264iter: 834000 Difference: 94.9264iter: 835000 Difference: 94.9264iter: 836000 Difference: 94.9264iter: 837000 Difference: 94.9264iter: 838000 Difference: 94.9264iter: 839000 Difference: 94.9264iter: 840000 Difference: 94.9264iter: 841000 Difference: 94.9264iter: 842000 Difference: 94.9264iter: 843000 Difference: 94.9264iter: 844000 Difference: 94.9264iter: 845000 Difference: 94.9264iter: 846000 Difference: 94.9264iter: 847000 Difference: 94.9264iter: 848000 Difference: 94.9264iter: 849000 Difference: 94.9264iter: 850000 Difference: 94.9264iter: 851000 Difference: 94.9264iter: 852000 Difference: 94.9264iter: 853000 Difference: 94.9264iter: 854000 Difference: 94.9264iter: 855000 Difference: 94.9264iter: 856000 Difference: 94.9264iter: 857000 Difference: 94.9264iter: 858000 Difference: 94.9264iter: 859000 Difference: 94.9264iter: 860000 Difference: 94.9264iter: 861000 Difference: 94.9264iter: 862000 Difference: 94.9264iter: 863000 Difference: 94.9264iter: 864000 Difference: 94.9264iter: 865000 Difference: 94.9264iter: 866000 Difference: 94.9264iter: 867000 Difference: 94.9264iter: 868000 Difference: 94.9264iter: 869000 Difference: 94.9264iter: 870000 Difference: 94.9264iter: 871000 Difference: 94.9264iter: 872000 Difference: 94.9264iter: 873000 Difference: 94.9264iter: 874000 Difference: 94.9264iter: 875000 Difference: 94.9264iter: 876000 Difference: 94.9264iter: 877000 Difference: 94.9264iter: 878000 Difference: 94.9264iter: 879000 Difference: 94.9264iter: 880000 Difference: 94.9264iter: 881000 Difference: 94.9264iter: 882000 Difference: 94.9264iter: 883000 Difference: 94.9264iter: 884000 Difference: 94.9264iter: 885000 Difference: 94.9264iter: 886000 Difference: 94.9264iter: 887000 Difference: 94.9264iter: 888000 Difference: 94.9264iter: 889000 Difference: 94.9264iter: 890000 Difference: 94.9264iter: 891000 Difference: 94.9264iter: 892000 Difference: 94.9264iter: 893000 Difference: 94.9264iter: 894000 Difference: 94.9264iter: 895000 Difference: 94.9264iter: 896000 Difference: 94.9264iter: 897000 Difference: 94.9264iter: 898000 Difference: 94.9264iter: 899000 Difference: 94.9264iter: 900000 Difference: 94.9264iter: 901000 Difference: 94.9264iter: 902000 Difference: 94.9264iter: 903000 Difference: 94.9264iter: 904000 Difference: 94.9264iter: 905000 Difference: 94.9264iter: 906000 Difference: 94.9264iter: 907000 Difference: 94.9264iter: 908000 Difference: 94.9264iter: 909000 Difference: 94.9264iter: 910000 Difference: 94.9264iter: 911000 Difference: 94.9264iter: 912000 Difference: 94.9264iter: 913000 Difference: 94.9264iter: 914000 Difference: 94.9264iter: 915000 Difference: 94.9264iter: 916000 Difference: 94.9264iter: 917000 Difference: 94.9264iter: 918000 Difference: 94.9264iter: 919000 Difference: 94.9264iter: 920000 Difference: 94.9264iter: 921000 Difference: 94.9264iter: 922000 Difference: 94.9264iter: 923000 Difference: 94.9264iter: 924000 Difference: 94.9264iter: 925000 Difference: 94.9264iter: 926000 Difference: 94.9264iter: 927000 Difference: 94.9264iter: 928000 Difference: 94.9264iter: 929000 Difference: 94.9264iter: 930000 Difference: 94.9264iter: 931000 Difference: 94.9264iter: 932000 Difference: 94.9264iter: 933000 Difference: 94.9264iter: 934000 Difference: 94.9264iter: 935000 Difference: 94.9264iter: 936000 Difference: 94.9264iter: 937000 Difference: 94.9264iter: 938000 Difference: 94.9264iter: 939000 Difference: 94.9264iter: 940000 Difference: 94.9264iter: 941000 Difference: 94.9264iter: 942000 Difference: 94.9264iter: 943000 Difference: 94.9264iter: 944000 Difference: 94.9264iter: 945000 Difference: 94.9264iter: 946000 Difference: 94.9264iter: 947000 Difference: 94.9264iter: 948000 Difference: 94.9264iter: 949000 Difference: 94.9264iter: 950000 Difference: 94.9264iter: 951000 Difference: 94.9264iter: 952000 Difference: 94.9264iter: 953000 Difference: 94.9264iter: 954000 Difference: 94.9264iter: 955000 Difference: 94.9264iter: 956000 Difference: 94.9264iter: 957000 Difference: 94.9264iter: 958000 Difference: 94.9264iter: 959000 Difference: 94.9264iter: 960000 Difference: 94.9264iter: 961000 Difference: 94.9264iter: 962000 Difference: 94.9264iter: 963000 Difference: 94.9264iter: 964000 Difference: 94.9264iter: 965000 Difference: 94.9264iter: 966000 Difference: 94.9264iter: 967000 Difference: 94.9264iter: 968000 Difference: 94.9264iter: 969000 Difference: 94.9264iter: 970000 Difference: 94.9264iter: 971000 Difference: 94.9264iter: 972000 Difference: 94.9264iter: 973000 Difference: 94.9264iter: 974000 Difference: 94.9264iter: 975000 Difference: 94.9264iter: 976000 Difference: 94.9264iter: 977000 Difference: 94.9264iter: 978000 Difference: 94.9264iter: 979000 Difference: 94.9264iter: 980000 Difference: 94.9264iter: 981000 Difference: 94.9264iter: 982000 Difference: 94.9264iter: 983000 Difference: 94.9264iter: 984000 Difference: 94.9264iter: 985000 Difference: 94.9264iter: 986000 Difference: 94.9264iter: 987000 Difference: 94.9264iter: 988000 Difference: 94.9264iter: 989000 Difference: 94.9264iter: 990000 Difference: 94.9264iter: 991000 Difference: 94.9264iter: 992000 Difference: 94.9264iter: 993000 Difference: 94.9264iter: 994000 Difference: 94.9264iter: 995000 Difference: 94.9264iter: 996000 Difference: 94.9264iter: 997000 Difference: 94.9264iter: 998000 Difference: 94.9264iter: 999000Calculation take time: 804689443\\n Difference: 94.9264'"
            ]
          },
          "metadata": {
            "tags": []
          },
          "execution_count": 6
        }
      ]
    },
    {
      "metadata": {
        "id": "CRzBA6UMwIy2",
        "colab_type": "code",
        "colab": {
          "base_uri": "https://localhost:8080/",
          "height": 393
        },
        "outputId": "4188d319-4e3e-4626-d2dd-8e0f1ed572ae"
      },
      "cell_type": "code",
      "source": [
        "# libraries and data\n",
        "import matplotlib.pyplot as plt\n",
        "import numpy as np\n",
        "import pandas as pd\n",
        "import os\n",
        "\n",
        "\n",
        "k = 0\n",
        "\n",
        "c1 = list(map(lambda x: float(x), open(\"diff1.txt\", 'r').read().split(' ')[:-1]))[k:]\n",
        "l = len(c1)\n",
        "\n",
        "\n",
        "\n",
        "iterations = list(map(lambda x: x * 100,list(range(k,l + k))))\n",
        "\n",
        "# style\n",
        "plt.style.use('seaborn-darkgrid')\n",
        " \n",
        "# create a color palette\n",
        "palette = plt.get_cmap('Set1')\n",
        " \n",
        "# multiple line plot \n",
        "plt.plot(iterations, c1,  marker='', color=palette(2), linewidth=1, alpha=0.9, label='Хаотическая релаксация')\n",
        "\n",
        "# Add legend\n",
        "plt.legend(loc=2, ncol=2)\n",
        " \n",
        "# Add titles\n",
        "plt.title(\"Нормы на соседних итерациях\", loc='center', fontsize=12, fontweight=0, color='orange')\n",
        "plt.xlabel(\"Итерации\")\n",
        "plt.ylabel(\"Норма матрицы\")"
      ],
      "execution_count": 9,
      "outputs": [
        {
          "output_type": "execute_result",
          "data": {
            "text/plain": [
              "Text(0, 0.5, 'Норма матрицы')"
            ]
          },
          "metadata": {
            "tags": []
          },
          "execution_count": 9
        },
        {
          "output_type": "display_data",
          "data": {
            "image/png": "[encoded data removed]",
            "text/plain": [
              "<Figure size 576x396 with 1 Axes>"
            ]
          },
          "metadata": {
            "tags": []
          }
        }
      ]
    }
  ]
}