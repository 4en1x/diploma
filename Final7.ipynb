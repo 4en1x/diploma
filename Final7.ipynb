{
  "nbformat": 4,
  "nbformat_minor": 0,
  "metadata": {
    "colab": {
      "name": "Final7.ipynb",
      "version": "0.3.2",
      "provenance": [],
      "include_colab_link": true
    },
    "kernelspec": {
      "name": "python3",
      "display_name": "Python 3"
    }
  },
  "cells": [
    {
      "cell_type": "markdown",
      "metadata": {
        "id": "view-in-github",
        "colab_type": "text"
      },
      "source": [
        "<a href=\"https://colab.research.google.com/github/4en1x/diploma/blob/master/Final7.ipynb\" target=\"_parent\"><img src=\"https://colab.research.google.com/assets/colab-badge.svg\" alt=\"Open In Colab\"/></a>"
      ]
    },
    {
      "metadata": {
        "id": "IuwhRQ9Q0tIg",
        "colab_type": "code",
        "colab": {
          "base_uri": "https://localhost:8080/",
          "height": 187
        },
        "outputId": "393cc0a7-75a7-4c7b-d8ad-f2db11823e6f"
      },
      "cell_type": "code",
      "source": [
        "!pip install git+git://github.com/andreinechaev/nvcc4jupyter.git\n",
        "%load_ext nvcc_plugin\n",
        "!cd /usr/src\n",
        "!ln -sfn linux-headers-2.6.35-28-generic linux"
      ],
      "execution_count": 2,
      "outputs": [
        {
          "output_type": "stream",
          "text": [
            "Collecting git+git://github.com/andreinechaev/nvcc4jupyter.git\n",
            "  Cloning git://github.com/andreinechaev/nvcc4jupyter.git to /tmp/pip-req-build-wdpr0o04\n",
            "Building wheels for collected packages: NVCCPlugin\n",
            "  Building wheel for NVCCPlugin (setup.py) ... \u001b[?25ldone\n",
            "\u001b[?25h  Stored in directory: /tmp/pip-ephem-wheel-cache-kajk1x8s/wheels/10/c2/05/ca241da37bff77d60d31a9174f988109c61ba989e4d4650516\n",
            "Successfully built NVCCPlugin\n",
            "Installing collected packages: NVCCPlugin\n",
            "Successfully installed NVCCPlugin-0.0.2\n",
            "created output directory at /content/src\n",
            "Out bin /content/result.out\n"
          ],
          "name": "stdout"
        }
      ]
    },
    {
      "metadata": {
        "id": "RPdusjTB00-g",
        "colab_type": "code",
        "colab": {
          "base_uri": "https://localhost:8080/",
          "height": 54
        },
        "outputId": "2021aa1a-f1d1-460e-f3b6-04283c1c691b"
      },
      "cell_type": "code",
      "source": [
        "%%cu\n",
        "#include <cuda_runtime.h>\n",
        "#include \"device_launch_parameters.h\"\n",
        "#include <stdlib.h>\n",
        "#include <stdio.h>\n",
        "#include <float.h>\n",
        "#include \"linux/kernel.h\"\n",
        "#include <iostream>\n",
        "#include <ctime>\n",
        "#include <iomanip>\n",
        "#include <fstream>\n",
        "#include <math.h>\n",
        "#include <cmath>\n",
        "\n",
        "using namespace std;\n",
        "\n",
        "#define ITERATIONS 100000000\n",
        "#define N 256\n",
        "\n",
        "#define e 2.7182818\n",
        "\n",
        "#define blockZSize 2\n",
        "\n",
        "\n",
        "#define extN (N + 2)\n",
        "#define Dx 1\n",
        "#define h ((float) Dx / (N + 1))\n",
        "#define h2 powf(h, 2.0)\n",
        "\n",
        "\n",
        "float f(int i, int j) {\n",
        "\treturn 2 * powf(e, i * h + j * h);\n",
        "}\n",
        "\n",
        "float u_t(float x) {\n",
        "\treturn powf(e, x);\n",
        "}\n",
        "\n",
        "float u_l(float x) {\n",
        "\treturn powf(e, x);\n",
        "}\n",
        "\n",
        "float u_r(float x) {\n",
        "\treturn powf(e, x + 1);\n",
        "}\n",
        "\n",
        "float u_d(float x) {\n",
        "\treturn powf(e, x + 1);\n",
        "}\n",
        "\n",
        "\n",
        "\n",
        "float func(int i, int j) {\n",
        "\treturn powf(e, i * h + j * h);\n",
        "}\n",
        "\n",
        "float* createMatrix(int row, int col) {\n",
        "\tfloat* matrix = new float[row * col];\n",
        "\n",
        "\tfor(int i = 0; i < row; i++) {\n",
        "\t\tfor(int j = 0; j < col; j++) {\n",
        "\t\t\tmatrix[i * row + j] = 0;\n",
        "\t\t}\n",
        "\t}\n",
        "\n",
        "  for(int i = 0; i < row; i++) {\n",
        "      matrix[0 * row + i] = u_t((i) * h);\n",
        "      matrix[(row - 1) * row + i] = u_d((i) * h);\n",
        "  }\n",
        "\n",
        "  for(int j = 0; j < col; j++) {\n",
        "      matrix[j * col + 0] = u_l((j) * h);\n",
        "      matrix[j * col + row - 1] = u_r((j) * h);\n",
        "\t}\n",
        "    \n",
        "\treturn matrix;\n",
        "}\n",
        "\n",
        "float calculateDifference(float* matrix1) {\n",
        "\tfloat tolerance = 0.0f;\n",
        "\n",
        "  for (int i = 1; i < extN - 1; i++) {\n",
        "\t\tfor (int j = 1; j < extN - 1; j++) {\n",
        "      float fCurrent = func(i, j);\n",
        "      if(abs(matrix1[i * extN + j] - fCurrent) > tolerance) {\n",
        "          tolerance = abs(matrix1[i * extN + j] - fCurrent);\n",
        "      } \n",
        "\t\t}\n",
        "\t}\n",
        "\n",
        "\treturn tolerance;\n",
        "}\n",
        "\n",
        "int main() {\n",
        "\n",
        "\tfloat* matrixHost = createMatrix(extN, extN);\n",
        "\n",
        "\tlong startTime = clock();\n",
        "\n",
        "\tfor (size_t i = 0; i < ITERATIONS; i++) {\n",
        "\t\tfor (int i = 1; i < extN - 1; i++) {\n",
        "\t\t  for (int j = 1; j < extN - 1; j += 1) {\n",
        "        int b = extN * i + j;\n",
        "         matrixHost[b] = 0.25 * (\n",
        "                matrixHost[b + extN]\n",
        "              + matrixHost[b - extN]\n",
        "              + matrixHost[b + 1]\n",
        "              + matrixHost[b - 1] \n",
        "              - h2 * f(i, j)\n",
        "            );\n",
        "\t\t  }\n",
        "\t  }\n",
        "      \n",
        "\n",
        "\n",
        "    if(i%100 == 0) {\n",
        "        float diff = calculateDifference(matrixHost);\n",
        "        if(diff < 0.01) break;\n",
        "        cout << diff << \" \";\n",
        "    }  \n",
        "\t}\n",
        "  \n",
        "\tstd::cout << \"Calculation take time: \" << clock() - startTime << std::endl;\n",
        "\n",
        "  cout << \" Difference: \" << calculateDifference(matrixHost);\n",
        "\n",
        " \n",
        "\treturn 0;\n",
        "}"
      ],
      "execution_count": 12,
      "outputs": [
        {
          "output_type": "execute_result",
          "data": {
            "text/plain": [
              "'7.27505 5.98953 5.53604 5.2255 4.98414 4.785 4.61546 4.46702 4.33514 4.21619 4.10775 4.00857 3.91658 3.83138 3.75166 3.67686 3.60643 3.53991 3.47685 3.41686 3.35958 3.30501 3.25258 3.20214 3.15358 3.10659 3.06102 3.01685 2.97376 2.93168 2.89053 2.8503 2.8108 2.77197 2.73376 2.69614 2.6591 2.62254 2.58642 2.5507 2.51549 2.48069 2.4462 2.41221 2.37855 2.34526 2.31238 2.27982 2.24768 2.21586 2.18443 2.15338 2.12262 2.09233 2.06232 2.03271 2.00349 1.97455 1.94604 1.91789 1.89005 1.86259 1.83552 1.80877 1.78233 1.75633 1.73066 1.7053 1.68026 1.65563 1.63133 1.60734 1.58367 1.56033 1.53737 1.51471 1.49236 1.47031 1.44857 1.42718 1.4061 1.38531 1.36481 1.34459 1.32466 1.30505 1.28574 1.26669 1.24792 1.22942 1.21117 1.1932 1.1755 1.15808 1.1409 1.12398 1.1073 1.09087 1.07467 1.05871 1.04298 1.0275 1.01226 0.997241 0.982441 0.967858 0.953488 0.93933 0.925379 0.911634 0.898091 0.884748 0.871611 0.858678 0.845935 0.83338 0.82101 0.808823 0.796815 0.784986 0.77333 0.761847 0.750535 0.739388 0.728408 0.71759 0.706932 0.696439 0.686106 0.675926 0.665896 0.656016 0.646281 0.63669 0.627241 0.617933 0.608762 0.599727 0.590826 0.582057 0.573418 0.564907 0.556522 0.548261 0.540123 0.532106 0.524207 0.516427 0.50876 0.501209 0.493773 0.486449 0.479233 0.472124 0.46512 0.45822 0.451423 0.444726 0.438128 0.431629 0.425225 0.418917 0.412702 0.406579 0.400548 0.394605 0.388751 0.382984 0.377302 0.371704 0.366189 0.360757 0.355404 0.350131 0.344937 0.339818 0.334778 0.32981 0.324918 0.320096 0.315347 0.310668 0.30606 0.301518 0.297045 0.292638 0.288296 0.284019 0.279804 0.275653 0.271563 0.267535 0.263564 0.259654 0.255802 0.252007 0.248268 0.244583 0.240955 0.23738 0.233859 0.23039 0.226972 0.223606 0.220288 0.21702 0.2138 0.210629 0.207504 0.204426 0.201392 0.198405 0.195461 0.192561 0.189704 0.186889 0.184117 0.181386 0.178696 0.176043 0.173431 0.170858 0.168323 0.165828 0.163366 0.160941 0.158553 0.156201 0.153884 0.1516 0.149351 0.147136 0.144951 0.1428 0.140684 0.138594 0.136537 0.134513 0.132515 0.13055 0.128612 0.126704 0.124824 0.12297 0.121149 0.119349 0.117578 0.115833 0.114115 0.112421 0.110751 0.109109 0.107489 0.105894 0.104321 0.102776 0.10125 0.0997469 0.0982659 0.0968072 0.0953736 0.0939553 0.0925624 0.0911865 0.0898371 0.0885017 0.0871882 0.0858953 0.0846176 0.0833652 0.0821254 0.0809071 0.0797069 0.0785215 0.0773594 0.0762138 0.075078 0.0739648 0.0728662 0.0717831 0.0707209 0.0696719 0.0686347 0.0676172 0.066613 0.0656221 0.0646515 0.0636971 0.0627453 0.0618136 0.0608971 0.0599906 0.0590994 0.058224 0.0573637 0.0565064 0.0556681 0.0548427 0.0540285 0.0532231 0.0524337 0.0516608 0.0508974 0.0501344 0.0493891 0.0486569 0.0479362 0.0472212 0.0465186 0.0458291 0.0451534 0.0444849 0.0438178 0.0431664 0.0425274 0.0418963 0.0412734 0.0406575 0.0400538 0.0394614 0.0388815 0.0383093 0.0377371 0.0371687 0.036617 0.0360739 0.0355394 0.035013 0.0344889 0.0339754 0.0334699 0.0329747 0.0324888 0.0320106 0.0315337 0.0310581 0.0305963 0.0301425 0.0296972 0.0292554 0.0288212 0.0283911 0.0279653 0.02755 0.0271413 0.0267408 0.0263493 0.025965 0.0255835 0.025202 0.0248206 0.0244439 0.0240805 0.0237236 0.0233719 0.0230255 0.0226848 0.0223486 0.0220149 0.021683 0.0213592 0.0210412 0.0207279 0.020421 0.0201204 0.0198257 0.0195365 0.0192504 0.0189643 0.0186782 0.0183921 0.0181158 0.0178463 0.0175815 0.0173218 0.0170662 0.0168126 0.0165629 0.0163167 0.0160749 0.0158365 0.0155981 0.0153606 0.0151303 0.0149052 0.014684 0.0144665 0.0142534 0.0140445 0.01384 0.0136411 0.0134461 0.0132539 0.0130632 0.0128725 0.0126817 0.012491 0.0123003 0.0121095 0.0119188 0.0117354 0.01156 0.0113878 0.0112193 0.0110533 0.0108907 0.0107305 0.0105715 0.0104158 0.0102623 0.0101101 Calculation take time: 84929946\\n Difference: 0.00996137'"
            ]
          },
          "metadata": {
            "tags": []
          },
          "execution_count": 12
        }
      ]
    },
    {
      "metadata": {
        "id": "LjUE5NPs4Y-W",
        "colab_type": "code",
        "colab": {
          "base_uri": "https://localhost:8080/",
          "height": 377
        },
        "outputId": "6b1df361-4867-45bf-d1c8-0c88833f54f7"
      },
      "cell_type": "code",
      "source": [
        "import matplotlib.pyplot as plt\n",
        "import numpy as np\n",
        "import pandas as pd\n",
        "\n",
        "objects = (\n",
        "    'Параллельный',\n",
        "    'Последовательный',\n",
        "    \n",
        ")\n",
        "y_pos = np.arange(len(objects))\n",
        "performance = [3.53603, 84.929946]\n",
        "\n",
        "plt.style.use('seaborn-darkgrid')\n",
        "plt.barh(y_pos, performance, align='center', alpha=0.5, height=0.2)\n",
        "plt.yticks(y_pos, objects)\n",
        "plt.title(\"Время работы последовательного и параллельного алгоритма, размер матрицы = 216\", loc='left', fontsize=12, fontweight=0, color='orange')\n",
        "plt.ylabel('Тип Алгоритма')\n",
        "plt.xlabel('Время')\n",
        "\n",
        "for i, v in enumerate(performance):\n",
        "    plt.text(performance[i] + 0.1, \n",
        "             i-.02,\n",
        "              performance[i], \n",
        "              fontsize=11, \n",
        "              color='red')\n",
        "\n",
        "plt.show()"
      ],
      "execution_count": 22,
      "outputs": [
        {
          "output_type": "display_data",
          "data": {
            "image/png": "[encoded data removed]",
            "text/plain": [
              "<Figure size 576x396 with 1 Axes>"
            ]
          },
          "metadata": {
            "tags": []
          }
        }
      ]
    }
  ]
}